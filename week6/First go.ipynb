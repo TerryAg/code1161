{
 "cells": [
  {
   "cell_type": "code",
   "execution_count": 1,
   "metadata": {
    "collapsed": false
   },
   "outputs": [
    {
     "name": "stdout",
     "output_type": "stream",
     "text": [
      "Hello\n"
     ]
    }
   ],
   "source": [
    "print \"Hello\""
   ]
  },
  {
   "cell_type": "code",
   "execution_count": 2,
   "metadata": {
    "collapsed": true
   },
   "outputs": [],
   "source": [
    "import pandas as pd\n",
    "import numpy as np\n",
    "import matplotlib.pyplot as plt\n",
    "import csv"
   ]
  },
  {
   "cell_type": "code",
   "execution_count": 13,
   "metadata": {
    "collapsed": false
   },
   "outputs": [
    {
     "name": "stdout",
     "output_type": "stream",
     "text": [
      "        suburb                     breed type       colour registered age  \\\n",
      "0   GROVEDALE              Border Collie  Dog  Black/White          T  11   \n",
      "1   GROVEDALE          Dogue De Bordeaux  Dog          Tan          T   2   \n",
      "2   GROVEDALE   Labrador Cross Breed Dog  Dog  Black/White          T   4   \n",
      "3   GROVEDALE           Maltese/Shih Tzu  Dog  Black/White          T   1   \n",
      "4   GROVEDALE          Italian Greyhound  Dog    Black/Tan          T   5   \n",
      "5   GROVEDALE                   Cavoodle  Dog          Red          T   5   \n",
      "6     HIGHTON           Maltese/Shih Tzu  Dog  Black/White          T   6   \n",
      "7   GROVEDALE               Jack Russell  Dog    Tan/White          T  14   \n",
      "8       CERES              Border Collie  Dog  Black/White          T   8   \n",
      "\n",
      "  animal_nam  \n",
      "0      fLOSS  \n",
      "1       Lulu  \n",
      "2       Toby  \n",
      "3      Floki  \n",
      "4       Luca  \n",
      "5     Chardy  \n",
      "6     Bonnie  \n",
      "7      Rusty  \n",
      "8       Jeff  \n"
     ]
    }
   ],
   "source": [
    "import csv\n",
    "import collections\n",
    "d = collections.defaultdict(list)\n",
    "with open(\"registeredpets.csv\") as csvfile:\n",
    "    data = csv.reader(csvfile)\n",
    "    count = 0\n",
    "    for line in data:\n",
    "        if count == 0:\n",
    "            headers = line\n",
    "            for column_header in line:\n",
    "                d[column_header] = []\n",
    "            count+= 1\n",
    "            continue\n",
    "        for col, data_col in zip(headers, line):\n",
    "            d[col].append(data_col)\n",
    "        count += 1\n",
    "        if count == 10: break\n",
    "\n",
    "df = pd.DataFrame(d, columns=headers)\n",
    "print df"
   ]
  }
 ],
 "metadata": {
  "kernelspec": {
   "display_name": "Python 2",
   "language": "python",
   "name": "python2"
  },
  "language_info": {
   "codemirror_mode": {
    "name": "ipython",
    "version": 2
   },
   "file_extension": ".py",
   "mimetype": "text/x-python",
   "name": "python",
   "nbconvert_exporter": "python",
   "pygments_lexer": "ipython2",
   "version": "2.7.12"
  }
 },
 "nbformat": 4,
 "nbformat_minor": 2
}
